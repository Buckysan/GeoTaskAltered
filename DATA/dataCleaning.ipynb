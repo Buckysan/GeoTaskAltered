{
 "cells": [
  {
   "cell_type": "code",
   "execution_count": 13,
   "metadata": {},
   "outputs": [],
   "source": [
    "import json\n",
    "\n",
    "def processFile(DATA):\n",
    "    # Read the JSON file\n",
    "    txt = open(DATA).read()\n",
    "\n",
    "    # Some weird formatting in the JSON file we need to deal with so it can be parsed properly.\n",
    "    txt = txt.replace('}\"}','}}')\n",
    "    txt = txt.replace('\"{','{')\n",
    "    txt = txt.replace('}\",','},')\n",
    "\n",
    "    # We change the JSON as above and then rewrite the JSON file with the cleaned-up version.\n",
    "    with open(DATA, mode='w') as json_file:\n",
    "        json_file.write(txt)\n",
    "\n"
   ]
  },
  {
   "cell_type": "code",
   "execution_count": null,
   "metadata": {},
   "outputs": [],
   "source": []
  }
 ],
 "metadata": {
  "kernelspec": {
   "display_name": "Python 3",
   "language": "python",
   "name": "python3"
  },
  "language_info": {
   "codemirror_mode": {
    "name": "ipython",
    "version": 3
   },
   "file_extension": ".py",
   "mimetype": "text/x-python",
   "name": "python",
   "nbconvert_exporter": "python",
   "pygments_lexer": "ipython3",
   "version": "3.9.6"
  }
 },
 "nbformat": 4,
 "nbformat_minor": 2
}
